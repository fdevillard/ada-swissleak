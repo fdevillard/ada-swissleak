{
 "cells": [
  {
   "cell_type": "code",
   "execution_count": 1,
   "metadata": {
    "collapsed": true
   },
   "outputs": [],
   "source": [
    "%matplotlib inline\n",
    "import pandas as pd\n",
    "import numpy as np\n",
    "import matplotlib.pyplot as plt\n",
    "import requests"
   ]
  },
  {
   "cell_type": "markdown",
   "metadata": {},
   "source": [
    "Load all the Entities:"
   ]
  },
  {
   "cell_type": "code",
   "execution_count": 2,
   "metadata": {
    "collapsed": true
   },
   "outputs": [],
   "source": [
    "entities = pd.read_csv('../data/panama/Entities.csv', header=0, low_memory=False)"
   ]
  },
  {
   "cell_type": "markdown",
   "metadata": {},
   "source": [
    "Retain only Swiss Entities (not matching some wrong country classification):"
   ]
  },
  {
   "cell_type": "code",
   "execution_count": 3,
   "metadata": {
    "collapsed": true
   },
   "outputs": [],
   "source": [
    "from helpers.swiss_codes import filter_swiss\n",
    "swiss_entities = filter_swiss(entities)"
   ]
  },
  {
   "cell_type": "code",
   "execution_count": 4,
   "metadata": {
    "collapsed": false
   },
   "outputs": [
    {
     "name": "stdout",
     "output_type": "stream",
     "text": [
      "7.68 % of the entities are located in Switzerland.\n"
     ]
    }
   ],
   "source": [
    "percent = 100*len(swiss_entities)/len(entities)\n",
    "print('%.2f' % percent, '% of the entities are located in Switzerland.')"
   ]
  },
  {
   "cell_type": "markdown",
   "metadata": {},
   "source": [
    "Parse all Swiss Entities and assign corresponding postal code and canton column:"
   ]
  },
  {
   "cell_type": "code",
   "execution_count": 5,
   "metadata": {
    "collapsed": false
   },
   "outputs": [],
   "source": [
    "from helpers.swiss_codes import add_columns\n",
    "\n",
    "data = add_columns(swiss_entities)"
   ]
  },
  {
   "cell_type": "code",
   "execution_count": 6,
   "metadata": {
    "collapsed": false,
    "scrolled": true
   },
   "outputs": [],
   "source": [
    "import json\n",
    "try:\n",
    "    with open('data/addresses.json', 'r') as fp:\n",
    "        addresses = json.load(fp)\n",
    "except:\n",
    "    code_url = 'http://api.geonames.org/postalCodeSearchJSON?'\n",
    "    params = {'username':'lionelfleury','country':'CH','postalcode':'1015'}\n",
    "    addresses = {}\n",
    "    for code in postal_codes:\n",
    "        params.update({'postalcode':code})\n",
    "        r = requests.get(code_url, params)\n",
    "        try:\n",
    "            a = r.json()['postalCodes'][0]\n",
    "            addresses[code] = a\n",
    "        except:\n",
    "            print('Postal code not found:',code)"
   ]
  },
  {
   "cell_type": "code",
   "execution_count": 7,
   "metadata": {
    "collapsed": false
   },
   "outputs": [
    {
     "data": {
      "text/plain": [
       "{'adminCode1': 'VD',\n",
       " 'adminCode2': '2225',\n",
       " 'adminCode3': '5586',\n",
       " 'adminName1': 'Canton de Vaud',\n",
       " 'adminName2': 'District de Lausanne',\n",
       " 'adminName3': 'Lausanne',\n",
       " 'countryCode': 'CH',\n",
       " 'lat': 46.52913524902344,\n",
       " 'lng': 6.652444170227051,\n",
       " 'placeName': 'Lausanne',\n",
       " 'postalCode': '1000'}"
      ]
     },
     "execution_count": 7,
     "metadata": {},
     "output_type": "execute_result"
    }
   ],
   "source": [
    "addresses['1000']"
   ]
  },
  {
   "cell_type": "code",
   "execution_count": 8,
   "metadata": {
    "collapsed": false
   },
   "outputs": [],
   "source": [
    "status = swiss_entities[['name','status']].groupby('status').count()"
   ]
  },
  {
   "cell_type": "code",
   "execution_count": 13,
   "metadata": {
    "collapsed": false
   },
   "outputs": [
    {
     "data": {
      "text/html": [
       "<div>\n",
       "<table border=\"1\" class=\"dataframe\">\n",
       "  <thead>\n",
       "    <tr style=\"text-align: right;\">\n",
       "      <th></th>\n",
       "      <th>name</th>\n",
       "    </tr>\n",
       "    <tr>\n",
       "      <th>status</th>\n",
       "      <th></th>\n",
       "    </tr>\n",
       "  </thead>\n",
       "  <tbody>\n",
       "    <tr>\n",
       "      <th>Defaulted</th>\n",
       "      <td>18463</td>\n",
       "    </tr>\n",
       "    <tr>\n",
       "      <th>Dissolved</th>\n",
       "      <td>6807</td>\n",
       "    </tr>\n",
       "    <tr>\n",
       "      <th>Active</th>\n",
       "      <td>6327</td>\n",
       "    </tr>\n",
       "    <tr>\n",
       "      <th>Changed agent</th>\n",
       "      <td>3540</td>\n",
       "    </tr>\n",
       "    <tr>\n",
       "      <th>Inactivated</th>\n",
       "      <td>1499</td>\n",
       "    </tr>\n",
       "    <tr>\n",
       "      <th>Resigned as agent</th>\n",
       "      <td>560</td>\n",
       "    </tr>\n",
       "    <tr>\n",
       "      <th>Relocated in new jurisdiction</th>\n",
       "      <td>257</td>\n",
       "    </tr>\n",
       "    <tr>\n",
       "      <th>Bad debt account</th>\n",
       "      <td>125</td>\n",
       "    </tr>\n",
       "    <tr>\n",
       "      <th>In transition</th>\n",
       "      <td>116</td>\n",
       "    </tr>\n",
       "    <tr>\n",
       "      <th>Discontinued</th>\n",
       "      <td>112</td>\n",
       "    </tr>\n",
       "    <tr>\n",
       "      <th>Transferred OUT</th>\n",
       "      <td>82</td>\n",
       "    </tr>\n",
       "    <tr>\n",
       "      <th>Dead</th>\n",
       "      <td>68</td>\n",
       "    </tr>\n",
       "    <tr>\n",
       "      <th>Trash company</th>\n",
       "      <td>48</td>\n",
       "    </tr>\n",
       "    <tr>\n",
       "      <th>In liquidation</th>\n",
       "      <td>4</td>\n",
       "    </tr>\n",
       "    <tr>\n",
       "      <th>Shelf company</th>\n",
       "      <td>4</td>\n",
       "    </tr>\n",
       "    <tr>\n",
       "      <th>Change in administration pending</th>\n",
       "      <td>3</td>\n",
       "    </tr>\n",
       "    <tr>\n",
       "      <th>Liquidated</th>\n",
       "      <td>3</td>\n",
       "    </tr>\n",
       "    <tr>\n",
       "      <th>Struck / Defunct / Deregistered</th>\n",
       "      <td>2</td>\n",
       "    </tr>\n",
       "    <tr>\n",
       "      <th>Shelf company not possible to sell</th>\n",
       "      <td>1</td>\n",
       "    </tr>\n",
       "    <tr>\n",
       "      <th>Transferred Out</th>\n",
       "      <td>1</td>\n",
       "    </tr>\n",
       "  </tbody>\n",
       "</table>\n",
       "</div>"
      ],
      "text/plain": [
       "                                     name\n",
       "status                                   \n",
       "Defaulted                           18463\n",
       "Dissolved                            6807\n",
       "Active                               6327\n",
       "Changed agent                        3540\n",
       "Inactivated                          1499\n",
       "Resigned as agent                     560\n",
       "Relocated in new jurisdiction         257\n",
       "Bad debt account                      125\n",
       "In transition                         116\n",
       "Discontinued                          112\n",
       "Transferred OUT                        82\n",
       "Dead                                   68\n",
       "Trash company                          48\n",
       "In liquidation                          4\n",
       "Shelf company                           4\n",
       "Change in administration pending        3\n",
       "Liquidated                              3\n",
       "Struck / Defunct / Deregistered         2\n",
       "Shelf company not possible to sell      1\n",
       "Transferred Out                         1"
      ]
     },
     "execution_count": 13,
     "metadata": {},
     "output_type": "execute_result"
    }
   ],
   "source": [
    "status.sort_values(by='name', ascending=False)"
   ]
  },
  {
   "cell_type": "code",
   "execution_count": null,
   "metadata": {
    "collapsed": true
   },
   "outputs": [],
   "source": []
  }
 ],
 "metadata": {
  "kernelspec": {
   "display_name": "Python [Root]",
   "language": "python",
   "name": "Python [Root]"
  },
  "language_info": {
   "codemirror_mode": {
    "name": "ipython",
    "version": 3
   },
   "file_extension": ".py",
   "mimetype": "text/x-python",
   "name": "python",
   "nbconvert_exporter": "python",
   "pygments_lexer": "ipython3",
   "version": "3.5.2"
  }
 },
 "nbformat": 4,
 "nbformat_minor": 0
}
