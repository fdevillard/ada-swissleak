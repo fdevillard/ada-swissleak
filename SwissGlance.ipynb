{
 "cells": [
  {
   "cell_type": "code",
   "execution_count": 1,
   "metadata": {
    "collapsed": true
   },
   "outputs": [],
   "source": [
    "import pandas as pd\n",
    "import numpy as np\n",
    "import requests"
   ]
  },
  {
   "cell_type": "markdown",
   "metadata": {},
   "source": [
    "Load all the Entities:"
   ]
  },
  {
   "cell_type": "code",
   "execution_count": 2,
   "metadata": {
    "collapsed": true
   },
   "outputs": [],
   "source": [
    "entities = pd.read_csv('../data/panama/Entities.csv', header=0, low_memory=False)"
   ]
  },
  {
   "cell_type": "markdown",
   "metadata": {},
   "source": [
    "Retain only Swiss Entities (not matching some wrong country classification):"
   ]
  },
  {
   "cell_type": "code",
   "execution_count": 3,
   "metadata": {
    "collapsed": true
   },
   "outputs": [],
   "source": [
    "from helpers.swiss_codes import filter_swiss\n",
    "\n",
    "swiss_entities = filter_swiss(entities)"
   ]
  },
  {
   "cell_type": "code",
   "execution_count": 4,
   "metadata": {
    "collapsed": false
   },
   "outputs": [
    {
     "name": "stdout",
     "output_type": "stream",
     "text": [
      "7.65 % of the entities are located in Switzerland.\n"
     ]
    }
   ],
   "source": [
    "percent = 100*len(swiss_entities)/len(entities)\n",
    "print('%.2f' % percent, '% of the entities are located in Switzerland.')"
   ]
  },
  {
   "cell_type": "markdown",
   "metadata": {},
   "source": [
    "Parse all Swiss Entities and assign corresponding postal code and canton column:"
   ]
  },
  {
   "cell_type": "code",
   "execution_count": 5,
   "metadata": {
    "collapsed": false
   },
   "outputs": [],
   "source": [
    "from helpers.swiss_codes import add_columns\n",
    "\n",
    "data = add_columns(swiss_entities)"
   ]
  },
  {
   "cell_type": "code",
   "execution_count": 7,
   "metadata": {
    "collapsed": false,
    "scrolled": true
   },
   "outputs": [],
   "source": [
    "import json\n",
    "try:\n",
    "    with open('data/addresses.json', 'r') as fp:\n",
    "        addresses = json.load(fp)\n",
    "except:\n",
    "    code_url = 'http://api.geonames.org/postalCodeSearchJSON?'\n",
    "    params = {'username':'lionelfleury','country':'CH','postalcode':'1015'}\n",
    "    addresses = {}\n",
    "    for code in set(swiss_entities.postal_code.values):\n",
    "        params.update({'postalcode':code})\n",
    "        r = requests.get(code_url, params)\n",
    "        try:\n",
    "            a = r.json()['postalCodes'][0]\n",
    "            addresses[code] = a\n",
    "        except:\n",
    "            print('Postal code not found:',code)"
   ]
  },
  {
   "cell_type": "code",
   "execution_count": 9,
   "metadata": {
    "collapsed": false
   },
   "outputs": [
    {
     "data": {
      "text/plain": [
       "{'adminCode1': 'VD',\n",
       " 'adminCode2': '2225',\n",
       " 'adminCode3': '5586',\n",
       " 'adminName1': 'Canton de Vaud',\n",
       " 'adminName2': 'District de Lausanne',\n",
       " 'adminName3': 'Lausanne',\n",
       " 'countryCode': 'CH',\n",
       " 'lat': 46.52913524902344,\n",
       " 'lng': 6.652444170227051,\n",
       " 'placeName': 'Lausanne',\n",
       " 'postalCode': '1000'}"
      ]
     },
     "execution_count": 9,
     "metadata": {},
     "output_type": "execute_result"
    }
   ],
   "source": [
    "addresses['1000']"
   ]
  },
  {
   "cell_type": "code",
   "execution_count": null,
   "metadata": {
    "collapsed": true
   },
   "outputs": [],
   "source": []
  }
 ],
 "metadata": {
  "kernelspec": {
   "display_name": "Python [Root]",
   "language": "python",
   "name": "Python [Root]"
  },
  "language_info": {
   "codemirror_mode": {
    "name": "ipython",
    "version": 3
   },
   "file_extension": ".py",
   "mimetype": "text/x-python",
   "name": "python",
   "nbconvert_exporter": "python",
   "pygments_lexer": "ipython3",
   "version": "3.5.2"
  }
 },
 "nbformat": 4,
 "nbformat_minor": 0
}
