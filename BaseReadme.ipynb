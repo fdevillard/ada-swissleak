{
 "cells": [
  {
   "cell_type": "markdown",
   "metadata": {},
   "source": [
    "# <center>Panama Papers Project   </center>\n"
   ]
  },
  {
   "cell_type": "markdown",
   "metadata": {},
   "source": [
    "# I - Introduction: The leaks\n",
    "\n",
    "\n",
    "-- to be added"
   ]
  },
  {
   "cell_type": "markdown",
   "metadata": {},
   "source": [
    "# The Project\n",
    "\n",
    " We devide the project into two main parts. A core part, which should be more feasible and should address essencial aspects of the network reveald by the leaks in Switzerland. A secondary part, which might be less straightforward to achieve, it is contingent on what we find along the way.\n",
    "\n",
    "## The core: links in Switzerland\n",
    "\n",
    "In order to reveal important and potentially fraudulent relations within and with Switzerland, we will focus on three main subgroups to be identified in the data:\n",
    "\n",
    " -  Names associated to big coorporations\n",
    " -  Politicians\n",
    " -  The super-rich\n",
    " \n",
    " In order to do so we will make use, not restricted to, of the following sources:\n",
    " \n",
    " - https://opencorporates.com/ \n",
    " - https://www.parlament.ch/en/organe/national-council/members-national-council-a-z\n",
    " - https://www.parlament.ch/centers/documents/de/interessen-nr.pdf\n",
    " \n",
    " \n",
    " \n",
    "It is expected that these subgroups have intersections, which will naturally be highlighted. We will investigate links among people/companies based in Switzerland and those between elements outside Switzerland, whenever we consider it relevant.\n",
    "\n",
    "The main achievent here will be to reveal the networks in a similar fashion as it has been done in this example, for the Aliyev family in Azerbaijan: \n",
    "\n",
    "![title](azerbaijan-president-linkurious-fraud-ring.png)\n"
   ]
  },
  {
   "cell_type": "markdown",
   "metadata": {},
   "source": [
    "### Lobbying in Switzerland\n",
    "\n",
    "Politicians in Switzerland have to declare their relations with companies. This oficial information can be obtained in\n",
    "\n",
    "- https://www.parlament.ch/centers/documents/de/interessen-nr.pdf\n",
    "- https://www.parlament.ch/centers/documents/de/interessen-sr.pdf\n",
    "\n",
    "at national and federal levels respectively.\n",
    "\n",
    "\n",
    "We would like to investigate this official statments and identify unnofical ones. We keep in mind that political campaigns in Switerland are privately funded."
   ]
  },
  {
   "cell_type": "code",
   "execution_count": null,
   "metadata": {
    "collapsed": true
   },
   "outputs": [],
   "source": []
  }
 ],
 "metadata": {
  "anaconda-cloud": {},
  "kernelspec": {
   "display_name": "Python [conda env:adaenv]",
   "language": "python",
   "name": "conda-env-adaenv-py"
  },
  "language_info": {
   "codemirror_mode": {
    "name": "ipython",
    "version": 3
   },
   "file_extension": ".py",
   "mimetype": "text/x-python",
   "name": "python",
   "nbconvert_exporter": "python",
   "pygments_lexer": "ipython3",
   "version": "3.5.2"
  }
 },
 "nbformat": 4,
 "nbformat_minor": 0
}
