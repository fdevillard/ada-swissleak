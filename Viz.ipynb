{
 "cells": [
  {
   "cell_type": "markdown",
   "metadata": {},
   "source": [
    "# Out of the box visualisations\n",
    "The purpose of this notebook is to provide some illustration about the data in the Panama papers. It's _out of the box_ in the sense that we only – mostly – only deal with data from the Panama Paper"
   ]
  },
  {
   "cell_type": "markdown",
   "metadata": {},
   "source": [
    "## World-wide overview\n",
    "Let see how many entities are on the panama paper linked with each country."
   ]
  },
  {
   "cell_type": "code",
   "execution_count": 1,
   "metadata": {
    "collapsed": true
   },
   "outputs": [],
   "source": [
    "%matplotlib inline\n",
    "import pandas as pd\n",
    "import numpy as np\n",
    "import matplotlib.pyplot as plt\n",
    "import folium"
   ]
  },
  {
   "cell_type": "code",
   "execution_count": 2,
   "metadata": {
    "collapsed": false
   },
   "outputs": [],
   "source": [
    "entities = pd.read_csv('../data/panama/Entities.csv', header=0, low_memory=False)"
   ]
  },
  {
   "cell_type": "code",
   "execution_count": 3,
   "metadata": {
    "collapsed": false
   },
   "outputs": [],
   "source": [
    "# Remove entities with many country codes (leads to many difficulties)\n",
    "filtered = entities[entities.country_codes.str.contains(';')==False]\n",
    "data = filtered[['name', 'country_codes']].groupby('country_codes').count()"
   ]
  },
  {
   "cell_type": "markdown",
   "metadata": {},
   "source": [
    "Now that we've the count per-country, let fill in the world countries with the data:"
   ]
  },
  {
   "cell_type": "code",
   "execution_count": 4,
   "metadata": {
    "collapsed": false
   },
   "outputs": [
    {
     "ename": "NameError",
     "evalue": "name 'v' is not defined",
     "output_type": "error",
     "traceback": [
      "\u001b[0;31m---------------------------------------------------------------------------\u001b[0m",
      "\u001b[0;31mNameError\u001b[0m                                 Traceback (most recent call last)",
      "\u001b[0;32m<ipython-input-4-0f678c7c9a44>\u001b[0m in \u001b[0;36m<module>\u001b[0;34m()\u001b[0m\n\u001b[1;32m     10\u001b[0m         \u001b[0;32mpass\u001b[0m\u001b[0;34m\u001b[0m\u001b[0m\n\u001b[1;32m     11\u001b[0m \u001b[0;34m\u001b[0m\u001b[0m\n\u001b[0;32m---> 12\u001b[0;31m     \u001b[0mdata2\u001b[0m\u001b[0;34m.\u001b[0m\u001b[0mappend\u001b[0m\u001b[0;34m(\u001b[0m\u001b[0;34m[\u001b[0m\u001b[0mcode\u001b[0m\u001b[0;34m,\u001b[0m\u001b[0mv\u001b[0m\u001b[0;34m]\u001b[0m\u001b[0;34m)\u001b[0m\u001b[0;34m\u001b[0m\u001b[0m\n\u001b[0m",
      "\u001b[0;31mNameError\u001b[0m: name 'v' is not defined"
     ]
    }
   ],
   "source": [
    "import json\n",
    "data2 = []\n",
    "with open('data/world-countries.json', 'r') as file:\n",
    "    df = json.load(file)\n",
    "    \n",
    "for i,code in pd.DataFrame(df['features']).id.iteritems():\n",
    "    try:\n",
    "        v = data.loc[code]['name']\n",
    "    except:\n",
    "        pass\n",
    "    \n",
    "    data2.append([code,v])"
   ]
  },
  {
   "cell_type": "code",
   "execution_count": null,
   "metadata": {
    "collapsed": false,
    "scrolled": true
   },
   "outputs": [],
   "source": [
    "geo_path = 'data/world-countries.json'\n",
    "map = folium.Map(location=[46.88, 8.23],tiles='Mapbox Bright',zoom_start=4.5)\n",
    "map.choropleth(geo_path=geo_path, data=data2, fill_color='PuRd', key_on='feature.id',\n",
    "               threshold_scale=[0, 10, 1000, 10000, 25000, 30000])\n",
    "map.save('world.html')\n",
    "map"
   ]
  },
  {
   "cell_type": "markdown",
   "metadata": {},
   "source": [
    "Look at the swiss part of the data:"
   ]
  },
  {
   "cell_type": "code",
   "execution_count": null,
   "metadata": {
    "collapsed": true
   },
   "outputs": [],
   "source": [
    "from helpers.swiss_codes import filter_swiss, add_columns\n",
    "\n",
    "swiss_entities = filter_swiss(entities)\n",
    "data3 = add_columns(swiss_entities)"
   ]
  },
  {
   "cell_type": "code",
   "execution_count": null,
   "metadata": {
    "collapsed": false
   },
   "outputs": [],
   "source": [
    "cantons = pd.read_csv('data/cantons_codes.csv', header=None, names=['Name'])"
   ]
  },
  {
   "cell_type": "code",
   "execution_count": null,
   "metadata": {
    "collapsed": false
   },
   "outputs": [],
   "source": [
    "per_canton = data3[['name','canton']].groupby('canton').count()\n",
    "for canton in cantons['Name']:\n",
    "    if not canton in per_canton.index:\n",
    "        per_canton.loc[canton] = 0\n",
    "per_canton.sort_values(by='name', ascending=False).plot.bar(legend=False, figsize=(10,6))\n",
    "plt.title('Number of entities per canton')\n",
    "plt.ylabel('Number of entities (log scale)')\n",
    "plt.yscale('log')\n",
    "plt.show()"
   ]
  },
  {
   "cell_type": "code",
   "execution_count": null,
   "metadata": {
    "collapsed": false
   },
   "outputs": [],
   "source": [
    "geo_path = 'data/ch-cantons.topojson.json'\n",
    "map = folium.Map(location=[46.88, 8.23],zoom_start=8)\n",
    "map.choropleth(geo_path=geo_path, data_out='data2.json', data=per_canton.reset_index(),\n",
    "               columns=['canton','name'],\n",
    "               key_on='feature.id',\n",
    "               fill_color='PuRd', fill_opacity=0.8, line_opacity=0.5,\n",
    "               topojson='objects.cantons',\n",
    "              threshold_scale=[0, 100, 500, 1000, 5000, 10000])\n",
    "map.save('per_canton.html')\n",
    "map"
   ]
  },
  {
   "cell_type": "code",
   "execution_count": null,
   "metadata": {
    "collapsed": true
   },
   "outputs": [],
   "source": []
  }
 ],
 "metadata": {
  "anaconda-cloud": {},
  "kernelspec": {
   "display_name": "Python [conda env:adaenv]",
   "language": "python",
   "name": "conda-env-adaenv-py"
  },
  "language_info": {
   "codemirror_mode": {
    "name": "ipython",
    "version": 3
   },
   "file_extension": ".py",
   "mimetype": "text/x-python",
   "name": "python",
   "nbconvert_exporter": "python",
   "pygments_lexer": "ipython3",
   "version": "3.5.2"
  }
 },
 "nbformat": 4,
 "nbformat_minor": 0
}
